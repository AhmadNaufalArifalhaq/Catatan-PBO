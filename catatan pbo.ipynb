{
 "cells": [
  {
   "cell_type": "markdown",
   "metadata": {},
   "source": [
    "# CLASS VS OBJECT\n"
   ]
  },
  {
   "cell_type": "markdown",
   "metadata": {},
   "source": [
    "Class adalah rancangan yang mendefinisikan variable dan method-methode pada seluruh objek tertentu.\n",
    "\n",
    "Object adalah instance dari class. Jika class secara umum mepresentasikan (template) sebuah object, sebuah instance adalah     representasi nyata dari class  itu sendiri, atau definisi lain dari object adalah sekumpulan software yang terdiri dari variable dan method-method yang terkait.\n",
    "\n",
    "\n",
    "<img src=\"gambar/1.png\">"
   ]
  },
  {
   "cell_type": "code",
   "execution_count": 8,
   "metadata": {},
   "outputs": [
    {
     "name": "stdout",
     "output_type": "stream",
     "text": [
      "10\n",
      "Luas :  100\n",
      "Luas Permukaan : 600\n",
      "volume : 1000\n"
     ]
    }
   ],
   "source": [
    "class Kubus:\n",
    "    def __init__(self,s):\n",
    "        self.sisi = s\n",
    "    def tampilkansisi(self):\n",
    "        print(self.sisi)\n",
    "    def luas(self):\n",
    "        print(\"Luas : \",self.sisi**2)\n",
    "    def luaspermukaan(self):\n",
    "        print(\"Luas Permukaan :\",self.sisi**2*6)\n",
    "    def volume(self):\n",
    "        print(\"volume :\",self.sisi**3)\n",
    "\n",
    "kubus = Kubus(10)\n",
    "kubus.tampilkansisi()\n",
    "kubus.luas()\n",
    "kubus.luaspermukaan()\n",
    "kubus.volume()"
   ]
  },
  {
   "cell_type": "code",
   "execution_count": 5,
   "metadata": {},
   "outputs": [
    {
     "name": "stdout",
     "output_type": "stream",
     "text": [
      "Ahmad Naufal Arfalhaq , Pengusaha , 30000000\n",
      "Umur : 19\n"
     ]
    }
   ],
   "source": [
    "from datetime import datetime\n",
    "sekarang = datetime.now()\n",
    "tahun = sekarang.year\n",
    "\n",
    "class Pegawai:\n",
    "    def __init__(self,a,b,c,d):\n",
    "        self.a = a\n",
    "        self.b = b\n",
    "        self.c = c\n",
    "        self.d = d\n",
    "    def tampilkan(self):\n",
    "        print(self.a,\",\",self.b,\",\",self.c*30)\n",
    "    def tampilkanumur(self):\n",
    "        print(\"Umur :\",tahun - self.d)\n",
    "        \n",
    "h1 = Pegawai(\"Ahmad Naufal Arfalhaq\",\"Pengusaha\",1000000,2000)\n",
    "h1.tampilkan()\n",
    "h1.tampilkanumur()"
   ]
  },
  {
   "cell_type": "code",
   "execution_count": 7,
   "metadata": {},
   "outputs": [
    {
     "name": "stdout",
     "output_type": "stream",
     "text": [
      "Ahmad Naufal Arifalhaq , 180441100130 , 2.9\n",
      "Ahmad Naufal Arifalhaq tidak mendapatkan bidikmisi\n",
      "Ahamad Fasta , 180441100123 , 3.6\n",
      "Anda layak Bidikmisi\n"
     ]
    }
   ],
   "source": [
    "class Mahasiswa:\n",
    "    def __init__(self,a,b,c):\n",
    "        self.nama = a\n",
    "        self.nim = b\n",
    "        self.ipk = c\n",
    "    def ceklayak(self):\n",
    "        if(self.ipk<3):\n",
    "            print(self.nama,\"tidak mendapatkan bidikmisi\")\n",
    "        else:\n",
    "            print(\"Anda layak Bidikmisi\")\n",
    "    def datamhs(self):\n",
    "        print(self.nama,\",\",self.nim,\",\",self.ipk)\n",
    "        \n",
    "m1 = Mahasiswa(\"Ahmad Naufal Arifalhaq\",\"180441100130\",2.9)\n",
    "m1.datamhs()\n",
    "m1.ceklayak()\n",
    "m2 = Mahasiswa(\"Ahamad Fasta\",\"180441100123\",3.6)\n",
    "m2.datamhs()\n",
    "m2.ceklayak()"
   ]
  },
  {
   "cell_type": "markdown",
   "metadata": {},
   "source": [
    "# INHERITENCE "
   ]
  },
  {
   "cell_type": "markdown",
   "metadata": {},
   "source": [
    "Inheritance atau Pewarisan/Penurunan adalah konsep pemrograman dimana sebuah class dapat 'menurunkan' property dan method yang dimilikinya kepada class lain.\n",
    "Konsep inheritance digunakan untuk memanfaatkan fitur ‘code reuse’ untuk menghindari duplikasi kode program. Konsep inheritance membuat sebuah struktur atau ‘hierarchy’ class dalam kode program. Class yang akan ‘diturunkan’ bisa disebut sebagai class induk (parent class), super class, atau base class. Sedangkan class yang ‘menerima penurunan’ bisa disebut sebagai class anak (child class), sub class, derived class atauheir class. \n",
    "<img src=\"gambar/2.jpg\">"
   ]
  },
  {
   "cell_type": "code",
   "execution_count": 10,
   "metadata": {},
   "outputs": [
    {
     "name": "stdout",
     "output_type": "stream",
     "text": [
      "Name = brian\n"
     ]
    }
   ],
   "source": [
    "class User:\n",
    "    name = \"\"\n",
    "    def __init__(self, name):\n",
    "        self.name = name\n",
    "    def printName(self):\n",
    "        print (\"Name = \" + self.name)\n",
    "brian = User(\"brian\") \n",
    "brian.printName()"
   ]
  },
  {
   "cell_type": "code",
   "execution_count": 14,
   "metadata": {},
   "outputs": [
    {
     "name": "stdout",
     "output_type": "stream",
     "text": [
      "Name = brian\n",
      "Name = Diana\n",
      "Programming Python\n"
     ]
    }
   ],
   "source": [
    "class user:\n",
    "    name = \"\"\n",
    "    def __init__(self, name):\n",
    "        self.name = name\n",
    "    def printname(self):\n",
    "        print (\"Name = \" + self.name)\n",
    "\n",
    "class programmer(User):\n",
    "    def __init__(self, name):\n",
    "        self.name = name\n",
    "    def dopython(self):\n",
    "        print (\"Programming Python\")\n",
    "brian = user(\"brian\")\n",
    "brian.printname()\n",
    "diana = programmer(\"Diana\")\n",
    "diana.printName()\n",
    "diana.dopython()"
   ]
  },
  {
   "cell_type": "markdown",
   "metadata": {},
   "source": [
    "# TYPE OF INHERITENCE"
   ]
  },
  {
   "cell_type": "markdown",
   "metadata": {},
   "source": [
    "Type of inherintence terbagi menjadi 4\n",
    "\n",
    "1.Default\n",
    "\n",
    "2.Overide\n",
    "\n",
    "3.Super\n",
    "\n",
    "4.Multiple inheritence"
   ]
  },
  {
   "cell_type": "code",
   "execution_count": 25,
   "metadata": {},
   "outputs": [
    {
     "name": "stdout",
     "output_type": "stream",
     "text": [
      "terryshark\n",
      "cartilage\n",
      "true\n",
      "the fish is swiming\n",
      "the fish can swim backwards\n",
      "caseyshark\n",
      "the fish is swiming\n",
      "the clownfish is coexisting with sea anemone\n"
     ]
    }
   ],
   "source": [
    "class fish:\n",
    "    def __init__(self,first_name,last_name=\"shark\",skeleton=\"cartilage\",eyelids=\"true\"):\n",
    "        self.first_name = first_name\n",
    "        self.last_name = last_name\n",
    "        self.skeleton = skeleton\n",
    "        self.eyelids = eyelids\n",
    "    def swim(self):\n",
    "        print(\"the fish is swiming\")\n",
    "    def swim_backwards(self):\n",
    "        print(\"the fish can swim backwards\")\n",
    "        \n",
    "#default adalah semua atribut class induk diwariskan\n",
    "class trout(fish):\n",
    "    pass\n",
    "\n",
    "class clownfish(fish):\n",
    "    def live_with_anemone(self):\n",
    "        print(\"the clownfish is coexisting with sea anemone\")\n",
    "        \n",
    "#Overide adalah isi dari method dan properti diganti nilainya\n",
    "class shark(fish):\n",
    "    def __init__(self,first_name,last_name=\"Shark\",skeleton=\"cartilage\",eyelids=True):\n",
    "        self.first_name = first_name\n",
    "        self.last_name = last_name\n",
    "        self.skeleton = skeleton\n",
    "        self.eyelids = eyelids\n",
    "    def swim_backwards(self):\n",
    "        print(\"The shark can't swim backwards, but can sink backwards\")\n",
    "        \n",
    "#super adalah menambahkan atribut yang unik pada class anak dan method lainya sama seperti induk\n",
    "class ikan(fish):\n",
    "    def __init__(self,water,first_name,last_name,skeleton,eyelids):\n",
    "        self.water = water\n",
    "        fish.__init__(self)\n",
    "        #atau\n",
    "        super().__init__(self)\n",
    "    \n",
    "terry = trout(\"terry\")\n",
    "print(terry.first_name+\"\"+terry.last_name)\n",
    "print(terry.skeleton)\n",
    "print(terry.eyelids)\n",
    "terry.swim()\n",
    "terry.swim_backwards()\n",
    "    \n",
    "casey = clownfish(\"casey\")\n",
    "print(casey.first_name+\"\"+casey.last_name)\n",
    "casey.swim()\n",
    "casey.live_with_anemone()"
   ]
  },
  {
   "cell_type": "code",
   "execution_count": 26,
   "metadata": {},
   "outputs": [
    {
     "name": "stdout",
     "output_type": "stream",
     "text": [
      "coral lives in a community\n",
      "the anemone is protecting the clown\n"
     ]
    }
   ],
   "source": [
    "#MULTIPLE INHERITENCE\n",
    "class coral:\n",
    "    def community(self):\n",
    "        print(\"coral lives in a community\")\n",
    "        \n",
    "class anemone:\n",
    "    def protect_clownfish(self):\n",
    "        print(\"the anemone is protecting the clown\")\n",
    "        \n",
    "class coralreef(coral,anemone):\n",
    "    pass\n",
    "great_barrier = coralreef()\n",
    "great_barrier.community()\n",
    "great_barrier.protect_clownfish()"
   ]
  },
  {
   "cell_type": "code",
   "execution_count": 27,
   "metadata": {},
   "outputs": [
    {
     "name": "stdout",
     "output_type": "stream",
     "text": [
      "nama saya Ahmad Naufal Arifalhaq\n",
      "saya mahasiswa madura\n",
      "nim saya 18441100123 \n",
      "\n",
      "nama saya Boy\n",
      "nip saya 8888\n",
      "saya dosen\n",
      "\n",
      "nama saya Afa\n",
      "nip saya 9999\n",
      "saya karyawan\n",
      "\n"
     ]
    }
   ],
   "source": [
    "class orang:\n",
    "    def __init__(self,nama):\n",
    "        self.nama = nama\n",
    "        print(\"nama saya\",self.nama)\n",
    "\n",
    "class mahasiswa(orang):\n",
    "    def __init__(self,nim,name):\n",
    "        super().__init__(name)\n",
    "        self.nim = nim\n",
    "        print(\"saya mahasiswa madura\")\n",
    "        print(\"nim saya\",self.nim,\"\\n\")\n",
    "\n",
    "class pegawai(orang):\n",
    "    def __init__(self,nip,name):\n",
    "        super().__init__(name)\n",
    "        self.nip = nip\n",
    "        print(\"nip saya\",self.nip)\n",
    "\n",
    "class karyawan(pegawai):\n",
    "    def __init__(self,nip,name):\n",
    "        super().__init__(nip,name)\n",
    "        print(\"saya karyawan\\n\")\n",
    "\n",
    "class dosen(pegawai):\n",
    "    def __init__(self,nip,name):\n",
    "        super().__init__(nip,name)\n",
    "        print(\"saya dosen\\n\")\n",
    "\n",
    "y = mahasiswa(\"18441100123\",\"Ahmad Naufal Arifalhaq\")\n",
    "x = dosen(\"8888\",\"Boy\")\n",
    "z = karyawan(\"9999\",\"Afa\")"
   ]
  },
  {
   "cell_type": "code",
   "execution_count": 28,
   "metadata": {},
   "outputs": [
    {
     "name": "stdout",
     "output_type": "stream",
     "text": [
      "nama kuda:  ferdy\n",
      "rambut kuda:  gondrong\n",
      "<><><><><><><><><><><><><><><><><><><><><><><><><><><>\n",
      "nama keledai:  irwan\n",
      "berat berat:  180\n",
      "<><><><><><><><><><><><><><><><><><><><><><><><><><><>\n",
      "nama mule:  ham\n",
      "rambut mule:  lurus\n",
      "berat mule:  80\n"
     ]
    }
   ],
   "source": [
    "class kuda:\n",
    "    def __init__(self,nama,rambut):\n",
    "        self.nama = nama\n",
    "        self.rambut = rambut\n",
    "    def tampilan(self):    \n",
    "        print(\"nama kuda: \",self.nama)\n",
    "        print(\"rambut kuda: \",self.rambut)\n",
    "    \n",
    "class keledai:\n",
    "    def __init__(self,nama,berat):\n",
    "        self.nama = nama\n",
    "        self.berat = berat\n",
    "    def tampilan(self):\n",
    "        print(\"nama keledai: \",self.nama)\n",
    "        print(\"berat berat: \",self.berat)\n",
    "        \n",
    "class mule(kuda,keledai):\n",
    "    def __init__(self,nama,rambut,berat):\n",
    "        kuda.__init__(self,nama,rambut)\n",
    "        keledai.__init__(self,nama,berat)\n",
    "    def tampilkan(self):\n",
    "        print(\"nama mule: \",self.nama)\n",
    "        print(\"rambut mule: \",self.rambut)\n",
    "        print(\"berat mule: \",self.berat)\n",
    "        \n",
    "    \n",
    "        \n",
    "x1 = kuda(\"ferdy\",\"gondrong\")\n",
    "x1.tampilan()\n",
    "print(\"<><><><><><><><><><><><><><><><><><><><><><><><><><><>\")\n",
    "x2 = keledai(\"irwan\",\"180\")\n",
    "x2.tampilan()\n",
    "print(\"<><><><><><><><><><><><><><><><><><><><><><><><><><><>\")\n",
    "X3 = mule(\"ham\",\"lurus\",\"80\")\n",
    "X3.tampilkan()\n",
    "    \n",
    "\n"
   ]
  },
  {
   "cell_type": "code",
   "execution_count": 30,
   "metadata": {},
   "outputs": [
    {
     "name": "stdout",
     "output_type": "stream",
     "text": [
      "anda siapa: ferdy\n",
      "nomer pegawai: 4534\n",
      "kode lokasi: 768768\n",
      "\n",
      "anda siapa: irwon\n",
      "nomer pegawai: 4834\n",
      "kode lokasi: 769768\n",
      "\n",
      "anda siapa: nofal\n",
      "nomer pegawai: 4539\n",
      "kode lokasi: 768769\n",
      "\n"
     ]
    }
   ],
   "source": [
    "class orang:\n",
    "    def __init__(self,nm):\n",
    "        self.nama = nm\n",
    "    def tampilan(self):\n",
    "        print(\"anda siapa: \",self.nama)\n",
    "class pegawai(orang):\n",
    "    def __init__(self,nm,nip):\n",
    "        super().__init__(nm)\n",
    "        self.no_pegawai = nip\n",
    "    def tampilan(self):\n",
    "        print(\"anda siapa:\",self.nama)\n",
    "        print(\"nomer pegawai:\",self.no_pegawai)\n",
    "class karyawan(pegawai):\n",
    "    def __init__(self,nm,nip,kl):\n",
    "        super().__init__(nm,nip)\n",
    "        self.kodelokasi = kl\n",
    "    def tampilan(self):\n",
    "        print(\"anda siapa:\",self.nama)\n",
    "        print(\"nomer pegawai:\",self.no_pegawai)\n",
    "        print(\"kode lokasi:\",self.kodelokasi)\n",
    "        print()\n",
    "\n",
    "x3=karyawan(\"ferdy\",\"4534\",\"768768\")\n",
    "x3.tampilan()\n",
    "x2=karyawan(\"irwon\",\"4834\",\"769768\")\n",
    "x2.tampilan()\n",
    "x1=karyawan(\"nofal\",\"4539\",\"768769\")\n",
    "x1.tampilan()"
   ]
  },
  {
   "cell_type": "code",
   "execution_count": 31,
   "metadata": {},
   "outputs": [
    {
     "name": "stdout",
     "output_type": "stream",
     "text": [
      "Hasil Pengambilan Matakuliah\n",
      "\n",
      "NIM = 180441100123\n",
      "Nama Mahasiswa = Ahmad Naufal Arifalhaq\n",
      "Kode Matakuliah = SI102\n",
      "Nama Matakuliah = PTIK\n",
      "Nilai = A\n"
     ]
    }
   ],
   "source": [
    "class Mahasiswa:\n",
    "    def __init__(self,npm,Nama):\n",
    "        self.npm = npm\n",
    "        self.Nama = Nama\n",
    "    def tampilkan(self):\n",
    "        print(\"NPM =\",self.npm)\n",
    "        print(\"Nama Mahasiswa =\",self.Nama)\n",
    "class Matakuliah:\n",
    "    def __init__(self,KodeMatkul,NamaMatkul):\n",
    "        self.KodeMatkul = KodeMatkul\n",
    "        self.NamaMatkul = NamaMatkul\n",
    "    def tampilkan(self):\n",
    "        print(\"Kode =\",self.KodeMatkul)\n",
    "        print(\"Matkul =\",self.NamaMatkul)\n",
    "class PengambilanMatkul(Mahasiswa,Matakuliah):\n",
    "    def __init__(self,npm,Nama,KodeMatkul,NamaMatkul,Nilai):\n",
    "        Mahasiswa.__init__(self,npm,Nama)\n",
    "        Matakuliah.__init__(self,KodeMatkul,NamaMatkul)\n",
    "        self.Nilai= Nilai\n",
    "    def tampilkan(self):\n",
    "        print(\"Hasil Pengambilan Matakuliah\\n\")\n",
    "        print(\"NIM =\",self.npm)\n",
    "        print(\"Nama Mahasiswa =\",self.Nama)\n",
    "        print(\"Kode Matakuliah =\",self.KodeMatkul)\n",
    "        print(\"Nama Matakuliah =\",self.NamaMatkul)\n",
    "        print(\"Nilai =\",self.Nilai)\n",
    "        \n",
    "PengambilanMatkul = PengambilanMatkul(\"180441100123\",\"Ahmad Naufal Arifalhaq\",\"SI102\",\"PTIK\",\"A\")\n",
    "PengambilanMatkul.tampilkan()"
   ]
  },
  {
   "cell_type": "markdown",
   "metadata": {},
   "source": [
    "# POLYMORPHISME"
   ]
  },
  {
   "cell_type": "markdown",
   "metadata": {},
   "source": [
    "Polymorphism adalah suatu aksi yang memungkinkan pemrogram menyampaikan pesan tertentu keluar dari hirarki obyeknya, dimana obyek yang berbeda memberikan tanggapan/respon terhadap pesan yang sama sesuai dengan sifat masing-masing obyek atau, Polymorphic dapat berarti banyak bentuk, maksudnya yaitu kita dapat menimpa (override), suatu method, yang berasal dari parent class (super class) dimana object tersebut diturunkan, sehingga memiliki kelakuan yang berbeda.\n",
    "<img src=\"gambar/3,png\">"
   ]
  },
  {
   "cell_type": "code",
   "execution_count": 36,
   "metadata": {},
   "outputs": [
    {
     "name": "stdout",
     "output_type": "stream",
     "text": [
      "the shark's skeleton is made of cartilage\n",
      "the clownfish skeleton is made of bone\n",
      "the shark is swiming\n",
      "the clownfish is swimming\n",
      "the shark cannot swim backwards, but can sink backwards\n",
      "the clownfish cannot swim backwards, but can sink backwards\n"
     ]
    }
   ],
   "source": [
    "class shark():\n",
    "    def swim(self):\n",
    "        print(\"the shark is swiming\")\n",
    "    def swim_backwards(self):\n",
    "        print(\"the shark cannot swim backwards, but can sink backwards\")\n",
    "    def skeleton(self):\n",
    "        print(\"the shark's skeleton is made of cartilage\")\n",
    "        \n",
    "class clownfish():\n",
    "    def swim(self):\n",
    "        print(\"the clownfish is swimming\")\n",
    "    def swim_backwards(self):\n",
    "        print(\"the clownfish cannot swim backwards, but can sink backwards\")\n",
    "    def skeleton(self):\n",
    "        print(\"the clownfish skeleton is made of bone\")\n",
    "sammy=shark()\n",
    "sammy.skeleton()\n",
    "\n",
    "casey=clownfish()\n",
    "casey.skeleton()\n",
    "\n",
    "def in_the_pacific(fish):\n",
    "    fish.swim()\n",
    "\n",
    "in_the_pacific(sammy)\n",
    "in_the_pacific(casey)\n",
    "\n",
    "for ikan in (sammy,casey):\n",
    "    ikan.swim_backwards()"
   ]
  },
  {
   "cell_type": "code",
   "execution_count": 33,
   "metadata": {},
   "outputs": [
    {
     "name": "stdout",
     "output_type": "stream",
     "text": [
      "groarr\n",
      "moof woof!\n"
     ]
    }
   ],
   "source": [
    "class bear():\n",
    "    def sound(self):\n",
    "        print(\"groarr\")\n",
    "class dog():\n",
    "    def sound(self):\n",
    "        print(\"moof woof!\")\n",
    "        \n",
    "def makesound(animal):\n",
    "    animal.sound()\n",
    "    \n",
    "beruang = bear()\n",
    "anjing = dog()\n",
    "\n",
    "makesound(beruang)\n",
    "makesound(anjing)\n",
    "    "
   ]
  },
  {
   "cell_type": "code",
   "execution_count": 40,
   "metadata": {},
   "outputs": [
    {
     "name": "stdout",
     "output_type": "stream",
     "text": [
      "Dokumen1: Tampilkan konten pdf!\n",
      "Dokumen2: Tampilkan konten pdf!\n",
      "Dokumen3: Tampilkan isi kata!\n"
     ]
    }
   ],
   "source": [
    "class document:\n",
    "    def __init__(self, name):\n",
    "        self.name = name\n",
    "    def show(self):\n",
    "        raise NotImplementedError(\"Subclass harus menerapkan metode abstrak\")\n",
    "class pdf(document):\n",
    "    def show(self):\n",
    "        return 'Tampilkan konten pdf!'\n",
    "class word(document):\n",
    "    def show(self):\n",
    "        return 'Tampilkan isi kata!'\n",
    "documents = [pdf('Dokumen1'),pdf('Dokumen2'),word('Dokumen3')]\n",
    "for document in documents:\n",
    "    print (document.name + ': ' + document.show())"
   ]
  },
  {
   "cell_type": "code",
   "execution_count": 42,
   "metadata": {},
   "outputs": [
    {
     "name": "stdout",
     "output_type": "stream",
     "text": [
      "Bananatruck: Mengemudi truk lambat karena sarat muatan.\n",
      "Orangetruck: Mengemudi truk lambat karena sarat muatan.\n",
      "Z3: Mengemudi mobil sport!\n"
     ]
    }
   ],
   "source": [
    "class car:\n",
    "    def __init__(self, name):\n",
    "        self.name = name\n",
    "    def drive(self):\n",
    "        raise NotImplementedError(\"Subclass harus menerapkan metode abstrak\")\n",
    "    def stop(self):\n",
    "        raise NotImplementedError(\"Subclass harus menerapkan metode abstrak\")\n",
    "class sportscar(car):\n",
    "    def drive(self):\n",
    "        return 'Mengemudi mobil sport!'\n",
    "    def stop(self):\n",
    "        return 'Pengereman sportscar!'\n",
    "class truck(car):\n",
    "    def drive(self):\n",
    "        return 'Mengemudi truk lambat karena sarat muatan.'\n",
    "    def stop(self):\n",
    "        return 'Pengereman truk!'\n",
    "cars = [truck('Bananatruck'),truck('Orangetruck'),sportscar('Z3')]\n",
    "for car in cars:\n",
    "    print (car.name + ': ' + car.drive())"
   ]
  },
  {
   "cell_type": "code",
   "execution_count": null,
   "metadata": {},
   "outputs": [],
   "source": []
  }
 ],
 "metadata": {
  "kernelspec": {
   "display_name": "Python 3",
   "language": "python",
   "name": "python3"
  },
  "language_info": {
   "codemirror_mode": {
    "name": "ipython",
    "version": 3
   },
   "file_extension": ".py",
   "mimetype": "text/x-python",
   "name": "python",
   "nbconvert_exporter": "python",
   "pygments_lexer": "ipython3",
   "version": "3.7.1"
  }
 },
 "nbformat": 4,
 "nbformat_minor": 2
}
