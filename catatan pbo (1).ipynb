{
 "cells": [
  {
   "cell_type": "markdown",
   "metadata": {},
   "source": [
    "# CLASS VS OBJECT\n"
   ]
  },
  {
   "cell_type": "markdown",
   "metadata": {},
   "source": [
    "Class adalah rancangan yang mendefinisikan variable dan method-methode pada seluruh objek tertentu.\n",
    "\n",
    "Object adalah instance dari class. Jika class secara umum mepresentasikan (template) sebuah object, sebuah instance adalah     representasi nyata dari class  itu sendiri, atau definisi lain dari object adalah sekumpulan software yang terdiri dari variable dan method-method yang terkait.\n",
    "\n",
    "\n",
    "<img src=\"gambar/1.png\">"
   ]
  },
  {
   "cell_type": "code",
   "execution_count": 8,
   "metadata": {},
   "outputs": [
    {
     "name": "stdout",
     "output_type": "stream",
     "text": [
      "10\n",
      "Luas :  100\n",
      "Luas Permukaan : 600\n",
      "volume : 1000\n"
     ]
    }
   ],
   "source": [
    "class Kubus:\n",
    "    def __init__(self,s):\n",
    "        self.sisi = s\n",
    "    def tampilkansisi(self):\n",
    "        print(self.sisi)\n",
    "    def luas(self):\n",
    "        print(\"Luas : \",self.sisi**2)\n",
    "    def luaspermukaan(self):\n",
    "        print(\"Luas Permukaan :\",self.sisi**2*6)\n",
    "    def volume(self):\n",
    "        print(\"volume :\",self.sisi**3)\n",
    "\n",
    "kubus = Kubus(10)\n",
    "kubus.tampilkansisi()\n",
    "kubus.luas()\n",
    "kubus.luaspermukaan()\n",
    "kubus.volume()"
   ]
  },
  {
   "cell_type": "code",
   "execution_count": 5,
   "metadata": {},
   "outputs": [
    {
     "name": "stdout",
     "output_type": "stream",
     "text": [
      "Ahmad Naufal Arfalhaq , Pengusaha , 30000000\n",
      "Umur : 19\n"
     ]
    }
   ],
   "source": [
    "from datetime import datetime\n",
    "sekarang = datetime.now()\n",
    "tahun = sekarang.year\n",
    "\n",
    "class Pegawai:\n",
    "    def __init__(self,a,b,c,d):\n",
    "        self.a = a\n",
    "        self.b = b\n",
    "        self.c = c\n",
    "        self.d = d\n",
    "    def tampilkan(self):\n",
    "        print(self.a,\",\",self.b,\",\",self.c*30)\n",
    "    def tampilkanumur(self):\n",
    "        print(\"Umur :\",tahun - self.d)\n",
    "        \n",
    "h1 = Pegawai(\"Ahmad Naufal Arfalhaq\",\"Pengusaha\",1000000,2000)\n",
    "h1.tampilkan()\n",
    "h1.tampilkanumur()"
   ]
  },
  {
   "cell_type": "code",
   "execution_count": 7,
   "metadata": {},
   "outputs": [
    {
     "name": "stdout",
     "output_type": "stream",
     "text": [
      "Ahmad Naufal Arifalhaq , 180441100130 , 2.9\n",
      "Ahmad Naufal Arifalhaq tidak mendapatkan bidikmisi\n",
      "Ahamad Fasta , 180441100123 , 3.6\n",
      "Anda layak Bidikmisi\n"
     ]
    }
   ],
   "source": [
    "class Mahasiswa:\n",
    "    def __init__(self,a,b,c):\n",
    "        self.nama = a\n",
    "        self.nim = b\n",
    "        self.ipk = c\n",
    "    def ceklayak(self):\n",
    "        if(self.ipk<3):\n",
    "            print(self.nama,\"tidak mendapatkan bidikmisi\")\n",
    "        else:\n",
    "            print(\"Anda layak Bidikmisi\")\n",
    "    def datamhs(self):\n",
    "        print(self.nama,\",\",self.nim,\",\",self.ipk)\n",
    "        \n",
    "m1 = Mahasiswa(\"Ahmad Naufal Arifalhaq\",\"180441100130\",2.9)\n",
    "m1.datamhs()\n",
    "m1.ceklayak()\n",
    "m2 = Mahasiswa(\"Ahamad Fasta\",\"180441100123\",3.6)\n",
    "m2.datamhs()\n",
    "m2.ceklayak()"
   ]
  },
  {
   "cell_type": "markdown",
   "metadata": {},
   "source": [
    "# INHERITENCE "
   ]
  },
  {
   "cell_type": "markdown",
   "metadata": {},
   "source": [
    "Inheritance atau Pewarisan/Penurunan adalah konsep pemrograman dimana sebuah class dapat 'menurunkan' property dan method yang dimilikinya kepada class lain.\n",
    "Konsep inheritance digunakan untuk memanfaatkan fitur ‘code reuse’ untuk menghindari duplikasi kode program. Konsep inheritance membuat sebuah struktur atau ‘hierarchy’ class dalam kode program. Class yang akan ‘diturunkan’ bisa disebut sebagai class induk (parent class), super class, atau base class. Sedangkan class yang ‘menerima penurunan’ bisa disebut sebagai class anak (child class), sub class, derived class atauheir class. \n",
    "<img src=\"gambar/2.jpg\">"
   ]
  },
  {
   "cell_type": "code",
   "execution_count": 10,
   "metadata": {},
   "outputs": [
    {
     "name": "stdout",
     "output_type": "stream",
     "text": [
      "Name = brian\n"
     ]
    }
   ],
   "source": [
    "class User:\n",
    "    name = \"\"\n",
    "    def __init__(self, name):\n",
    "        self.name = name\n",
    "    def printName(self):\n",
    "        print (\"Name = \" + self.name)\n",
    "brian = User(\"brian\") \n",
    "brian.printName()"
   ]
  },
  {
   "cell_type": "code",
   "execution_count": 14,
   "metadata": {},
   "outputs": [
    {
     "name": "stdout",
     "output_type": "stream",
     "text": [
      "Name = brian\n",
      "Name = Diana\n",
      "Programming Python\n"
     ]
    }
   ],
   "source": [
    "class user:\n",
    "    name = \"\"\n",
    "    def __init__(self, name):\n",
    "        self.name = name\n",
    "    def printname(self):\n",
    "        print (\"Name = \" + self.name)\n",
    "\n",
    "class programmer(User):\n",
    "    def __init__(self, name):\n",
    "        self.name = name\n",
    "    def dopython(self):\n",
    "        print (\"Programming Python\")\n",
    "brian = user(\"brian\")\n",
    "brian.printname()\n",
    "diana = programmer(\"Diana\")\n",
    "diana.printName()\n",
    "diana.dopython()"
   ]
  },
  {
   "cell_type": "markdown",
   "metadata": {},
   "source": [
    "# TYPE OF INHERITENCE"
   ]
  },
  {
   "cell_type": "markdown",
   "metadata": {},
   "source": [
    "Type of inherintence terbagi menjadi 4\n",
    "\n",
    "1.Default\n",
    "\n",
    "2.Overide\n",
    "\n",
    "3.Super\n",
    "\n",
    "4.Multiple inheritence"
   ]
  },
  {
   "cell_type": "code",
   "execution_count": 25,
   "metadata": {},
   "outputs": [
    {
     "name": "stdout",
     "output_type": "stream",
     "text": [
      "terryshark\n",
      "cartilage\n",
      "true\n",
      "the fish is swiming\n",
      "the fish can swim backwards\n",
      "caseyshark\n",
      "the fish is swiming\n",
      "the clownfish is coexisting with sea anemone\n"
     ]
    }
   ],
   "source": [
    "class fish:\n",
    "    def __init__(self,first_name,last_name=\"shark\",skeleton=\"cartilage\",eyelids=\"true\"):\n",
    "        self.first_name = first_name\n",
    "        self.last_name = last_name\n",
    "        self.skeleton = skeleton\n",
    "        self.eyelids = eyelids\n",
    "    def swim(self):\n",
    "        print(\"the fish is swiming\")\n",
    "    def swim_backwards(self):\n",
    "        print(\"the fish can swim backwards\")\n",
    "        \n",
    "#default adalah semua atribut class induk diwariskan\n",
    "class trout(fish):\n",
    "    pass\n",
    "\n",
    "class clownfish(fish):\n",
    "    def live_with_anemone(self):\n",
    "        print(\"the clownfish is coexisting with sea anemone\")\n",
    "        \n",
    "#Overide adalah isi dari method dan properti diganti nilainya\n",
    "class shark(fish):\n",
    "    def __init__(self,first_name,last_name=\"Shark\",skeleton=\"cartilage\",eyelids=True):\n",
    "        self.first_name = first_name\n",
    "        self.last_name = last_name\n",
    "        self.skeleton = skeleton\n",
    "        self.eyelids = eyelids\n",
    "    def swim_backwards(self):\n",
    "        print(\"The shark can't swim backwards, but can sink backwards\")\n",
    "        \n",
    "#super adalah menambahkan atribut yang unik pada class anak dan method lainya sama seperti induk\n",
    "class ikan(fish):\n",
    "    def __init__(self,water,first_name,last_name,skeleton,eyelids):\n",
    "        self.water = water\n",
    "        fish.__init__(self)\n",
    "        #atau\n",
    "        super().__init__(self)\n",
    "    \n",
    "terry = trout(\"terry\")\n",
    "print(terry.first_name+\"\"+terry.last_name)\n",
    "print(terry.skeleton)\n",
    "print(terry.eyelids)\n",
    "terry.swim()\n",
    "terry.swim_backwards()\n",
    "    \n",
    "casey = clownfish(\"casey\")\n",
    "print(casey.first_name+\"\"+casey.last_name)\n",
    "casey.swim()\n",
    "casey.live_with_anemone()"
   ]
  },
  {
   "cell_type": "code",
   "execution_count": 26,
   "metadata": {},
   "outputs": [
    {
     "name": "stdout",
     "output_type": "stream",
     "text": [
      "coral lives in a community\n",
      "the anemone is protecting the clown\n"
     ]
    }
   ],
   "source": [
    "#MULTIPLE INHERITENCE\n",
    "class coral:\n",
    "    def community(self):\n",
    "        print(\"coral lives in a community\")\n",
    "        \n",
    "class anemone:\n",
    "    def protect_clownfish(self):\n",
    "        print(\"the anemone is protecting the clown\")\n",
    "        \n",
    "class coralreef(coral,anemone):\n",
    "    pass\n",
    "great_barrier = coralreef()\n",
    "great_barrier.community()\n",
    "great_barrier.protect_clownfish()"
   ]
  },
  {
   "cell_type": "code",
   "execution_count": 27,
   "metadata": {},
   "outputs": [
    {
     "name": "stdout",
     "output_type": "stream",
     "text": [
      "nama saya Ahmad Naufal Arifalhaq\n",
      "saya mahasiswa madura\n",
      "nim saya 18441100123 \n",
      "\n",
      "nama saya Boy\n",
      "nip saya 8888\n",
      "saya dosen\n",
      "\n",
      "nama saya Afa\n",
      "nip saya 9999\n",
      "saya karyawan\n",
      "\n"
     ]
    }
   ],
   "source": [
    "class orang:\n",
    "    def __init__(self,nama):\n",
    "        self.nama = nama\n",
    "        print(\"nama saya\",self.nama)\n",
    "\n",
    "class mahasiswa(orang):\n",
    "    def __init__(self,nim,name):\n",
    "        super().__init__(name)\n",
    "        self.nim = nim\n",
    "        print(\"saya mahasiswa madura\")\n",
    "        print(\"nim saya\",self.nim,\"\\n\")\n",
    "\n",
    "class pegawai(orang):\n",
    "    def __init__(self,nip,name):\n",
    "        super().__init__(name)\n",
    "        self.nip = nip\n",
    "        print(\"nip saya\",self.nip)\n",
    "\n",
    "class karyawan(pegawai):\n",
    "    def __init__(self,nip,name):\n",
    "        super().__init__(nip,name)\n",
    "        print(\"saya karyawan\\n\")\n",
    "\n",
    "class dosen(pegawai):\n",
    "    def __init__(self,nip,name):\n",
    "        super().__init__(nip,name)\n",
    "        print(\"saya dosen\\n\")\n",
    "\n",
    "y = mahasiswa(\"18441100123\",\"Ahmad Naufal Arifalhaq\")\n",
    "x = dosen(\"8888\",\"Boy\")\n",
    "z = karyawan(\"9999\",\"Afa\")"
   ]
  },
  {
   "cell_type": "code",
   "execution_count": 28,
   "metadata": {},
   "outputs": [
    {
     "name": "stdout",
     "output_type": "stream",
     "text": [
      "nama kuda:  ferdy\n",
      "rambut kuda:  gondrong\n",
      "<><><><><><><><><><><><><><><><><><><><><><><><><><><>\n",
      "nama keledai:  irwan\n",
      "berat berat:  180\n",
      "<><><><><><><><><><><><><><><><><><><><><><><><><><><>\n",
      "nama mule:  ham\n",
      "rambut mule:  lurus\n",
      "berat mule:  80\n"
     ]
    }
   ],
   "source": [
    "class kuda:\n",
    "    def __init__(self,nama,rambut):\n",
    "        self.nama = nama\n",
    "        self.rambut = rambut\n",
    "    def tampilan(self):    \n",
    "        print(\"nama kuda: \",self.nama)\n",
    "        print(\"rambut kuda: \",self.rambut)\n",
    "    \n",
    "class keledai:\n",
    "    def __init__(self,nama,berat):\n",
    "        self.nama = nama\n",
    "        self.berat = berat\n",
    "    def tampilan(self):\n",
    "        print(\"nama keledai: \",self.nama)\n",
    "        print(\"berat berat: \",self.berat)\n",
    "        \n",
    "class mule(kuda,keledai):\n",
    "    def __init__(self,nama,rambut,berat):\n",
    "        kuda.__init__(self,nama,rambut)\n",
    "        keledai.__init__(self,nama,berat)\n",
    "    def tampilkan(self):\n",
    "        print(\"nama mule: \",self.nama)\n",
    "        print(\"rambut mule: \",self.rambut)\n",
    "        print(\"berat mule: \",self.berat)\n",
    "        \n",
    "    \n",
    "        \n",
    "x1 = kuda(\"ferdy\",\"gondrong\")\n",
    "x1.tampilan()\n",
    "print(\"<><><><><><><><><><><><><><><><><><><><><><><><><><><>\")\n",
    "x2 = keledai(\"irwan\",\"180\")\n",
    "x2.tampilan()\n",
    "print(\"<><><><><><><><><><><><><><><><><><><><><><><><><><><>\")\n",
    "X3 = mule(\"ham\",\"lurus\",\"80\")\n",
    "X3.tampilkan()\n",
    "    \n",
    "\n"
   ]
  },
  {
   "cell_type": "code",
   "execution_count": 30,
   "metadata": {},
   "outputs": [
    {
     "name": "stdout",
     "output_type": "stream",
     "text": [
      "anda siapa: ferdy\n",
      "nomer pegawai: 4534\n",
      "kode lokasi: 768768\n",
      "\n",
      "anda siapa: irwon\n",
      "nomer pegawai: 4834\n",
      "kode lokasi: 769768\n",
      "\n",
      "anda siapa: nofal\n",
      "nomer pegawai: 4539\n",
      "kode lokasi: 768769\n",
      "\n"
     ]
    }
   ],
   "source": [
    "class orang:\n",
    "    def __init__(self,nm):\n",
    "        self.nama = nm\n",
    "    def tampilan(self):\n",
    "        print(\"anda siapa: \",self.nama)\n",
    "class pegawai(orang):\n",
    "    def __init__(self,nm,nip):\n",
    "        super().__init__(nm)\n",
    "        self.no_pegawai = nip\n",
    "    def tampilan(self):\n",
    "        print(\"anda siapa:\",self.nama)\n",
    "        print(\"nomer pegawai:\",self.no_pegawai)\n",
    "class karyawan(pegawai):\n",
    "    def __init__(self,nm,nip,kl):\n",
    "        super().__init__(nm,nip)\n",
    "        self.kodelokasi = kl\n",
    "    def tampilan(self):\n",
    "        print(\"anda siapa:\",self.nama)\n",
    "        print(\"nomer pegawai:\",self.no_pegawai)\n",
    "        print(\"kode lokasi:\",self.kodelokasi)\n",
    "        print()\n",
    "\n",
    "x3=karyawan(\"ferdy\",\"4534\",\"768768\")\n",
    "x3.tampilan()\n",
    "x2=karyawan(\"irwon\",\"4834\",\"769768\")\n",
    "x2.tampilan()\n",
    "x1=karyawan(\"nofal\",\"4539\",\"768769\")\n",
    "x1.tampilan()"
   ]
  },
  {
   "cell_type": "code",
   "execution_count": 31,
   "metadata": {},
   "outputs": [
    {
     "name": "stdout",
     "output_type": "stream",
     "text": [
      "Hasil Pengambilan Matakuliah\n",
      "\n",
      "NIM = 180441100123\n",
      "Nama Mahasiswa = Ahmad Naufal Arifalhaq\n",
      "Kode Matakuliah = SI102\n",
      "Nama Matakuliah = PTIK\n",
      "Nilai = A\n"
     ]
    }
   ],
   "source": [
    "class Mahasiswa:\n",
    "    def __init__(self,npm,Nama):\n",
    "        self.npm = npm\n",
    "        self.Nama = Nama\n",
    "    def tampilkan(self):\n",
    "        print(\"NPM =\",self.npm)\n",
    "        print(\"Nama Mahasiswa =\",self.Nama)\n",
    "class Matakuliah:\n",
    "    def __init__(self,KodeMatkul,NamaMatkul):\n",
    "        self.KodeMatkul = KodeMatkul\n",
    "        self.NamaMatkul = NamaMatkul\n",
    "    def tampilkan(self):\n",
    "        print(\"Kode =\",self.KodeMatkul)\n",
    "        print(\"Matkul =\",self.NamaMatkul)\n",
    "class PengambilanMatkul(Mahasiswa,Matakuliah):\n",
    "    def __init__(self,npm,Nama,KodeMatkul,NamaMatkul,Nilai):\n",
    "        Mahasiswa.__init__(self,npm,Nama)\n",
    "        Matakuliah.__init__(self,KodeMatkul,NamaMatkul)\n",
    "        self.Nilai= Nilai\n",
    "    def tampilkan(self):\n",
    "        print(\"Hasil Pengambilan Matakuliah\\n\")\n",
    "        print(\"NIM =\",self.npm)\n",
    "        print(\"Nama Mahasiswa =\",self.Nama)\n",
    "        print(\"Kode Matakuliah =\",self.KodeMatkul)\n",
    "        print(\"Nama Matakuliah =\",self.NamaMatkul)\n",
    "        print(\"Nilai =\",self.Nilai)\n",
    "        \n",
    "PengambilanMatkul = PengambilanMatkul(\"180441100123\",\"Ahmad Naufal Arifalhaq\",\"SI102\",\"PTIK\",\"A\")\n",
    "PengambilanMatkul.tampilkan()"
   ]
  },
  {
   "cell_type": "markdown",
   "metadata": {},
   "source": [
    "# POLYMORPHISME"
   ]
  },
  {
   "cell_type": "markdown",
   "metadata": {},
   "source": [
    "Polymorphism adalah suatu aksi yang memungkinkan pemrogram menyampaikan pesan tertentu keluar dari hirarki obyeknya, dimana obyek yang berbeda memberikan tanggapan/respon terhadap pesan yang sama sesuai dengan sifat masing-masing obyek atau, Polymorphic dapat berarti banyak bentuk, maksudnya yaitu kita dapat menimpa (override), suatu method, yang berasal dari parent class (super class) dimana object tersebut diturunkan, sehingga memiliki kelakuan yang berbeda.\n",
    "<img src=\"gambar/3,png\">"
   ]
  },
  {
   "cell_type": "code",
   "execution_count": 36,
   "metadata": {},
   "outputs": [
    {
     "name": "stdout",
     "output_type": "stream",
     "text": [
      "the shark's skeleton is made of cartilage\n",
      "the clownfish skeleton is made of bone\n",
      "the shark is swiming\n",
      "the clownfish is swimming\n",
      "the shark cannot swim backwards, but can sink backwards\n",
      "the clownfish cannot swim backwards, but can sink backwards\n"
     ]
    }
   ],
   "source": [
    "class shark():\n",
    "    def swim(self):\n",
    "        print(\"the shark is swiming\")\n",
    "    def swim_backwards(self):\n",
    "        print(\"the shark cannot swim backwards, but can sink backwards\")\n",
    "    def skeleton(self):\n",
    "        print(\"the shark's skeleton is made of cartilage\")\n",
    "        \n",
    "class clownfish():\n",
    "    def swim(self):\n",
    "        print(\"the clownfish is swimming\")\n",
    "    def swim_backwards(self):\n",
    "        print(\"the clownfish cannot swim backwards, but can sink backwards\")\n",
    "    def skeleton(self):\n",
    "        print(\"the clownfish skeleton is made of bone\")\n",
    "sammy=shark()\n",
    "sammy.skeleton()\n",
    "\n",
    "casey=clownfish()\n",
    "casey.skeleton()\n",
    "\n",
    "def in_the_pacific(fish):\n",
    "    fish.swim()\n",
    "\n",
    "in_the_pacific(sammy)\n",
    "in_the_pacific(casey)\n",
    "\n",
    "for ikan in (sammy,casey):\n",
    "    ikan.swim_backwards()"
   ]
  },
  {
   "cell_type": "code",
   "execution_count": 33,
   "metadata": {},
   "outputs": [
    {
     "name": "stdout",
     "output_type": "stream",
     "text": [
      "groarr\n",
      "moof woof!\n"
     ]
    }
   ],
   "source": [
    "class bear():\n",
    "    def sound(self):\n",
    "        print(\"groarr\")\n",
    "class dog():\n",
    "    def sound(self):\n",
    "        print(\"moof woof!\")\n",
    "        \n",
    "def makesound(animal):\n",
    "    animal.sound()\n",
    "    \n",
    "beruang = bear()\n",
    "anjing = dog()\n",
    "\n",
    "makesound(beruang)\n",
    "makesound(anjing)\n",
    "    "
   ]
  },
  {
   "cell_type": "code",
   "execution_count": 40,
   "metadata": {},
   "outputs": [
    {
     "name": "stdout",
     "output_type": "stream",
     "text": [
      "Dokumen1: Tampilkan konten pdf!\n",
      "Dokumen2: Tampilkan konten pdf!\n",
      "Dokumen3: Tampilkan isi kata!\n"
     ]
    }
   ],
   "source": [
    "class document:\n",
    "    def __init__(self, name):\n",
    "        self.name = name\n",
    "    def show(self):\n",
    "        raise NotImplementedError(\"Subclass harus menerapkan metode abstrak\")\n",
    "class pdf(document):\n",
    "    def show(self):\n",
    "        return 'Tampilkan konten pdf!'\n",
    "class word(document):\n",
    "    def show(self):\n",
    "        return 'Tampilkan isi kata!'\n",
    "documents = [pdf('Dokumen1'),pdf('Dokumen2'),word('Dokumen3')]\n",
    "for document in documents:\n",
    "    print (document.name + ': ' + document.show())"
   ]
  },
  {
   "cell_type": "code",
   "execution_count": 42,
   "metadata": {},
   "outputs": [
    {
     "name": "stdout",
     "output_type": "stream",
     "text": [
      "Bananatruck: Mengemudi truk lambat karena sarat muatan.\n",
      "Orangetruck: Mengemudi truk lambat karena sarat muatan.\n",
      "Z3: Mengemudi mobil sport!\n"
     ]
    }
   ],
   "source": [
    "class car:\n",
    "    def __init__(self, name):\n",
    "        self.name = name\n",
    "    def drive(self):\n",
    "        raise NotImplementedError(\"Subclass harus menerapkan metode abstrak\")\n",
    "    def stop(self):\n",
    "        raise NotImplementedError(\"Subclass harus menerapkan metode abstrak\")\n",
    "class sportscar(car):\n",
    "    def drive(self):\n",
    "        return 'Mengemudi mobil sport!'\n",
    "    def stop(self):\n",
    "        return 'Pengereman sportscar!'\n",
    "class truck(car):\n",
    "    def drive(self):\n",
    "        return 'Mengemudi truk lambat karena sarat muatan.'\n",
    "    def stop(self):\n",
    "        return 'Pengereman truk!'\n",
    "cars = [truck('Bananatruck'),truck('Orangetruck'),sportscar('Z3')]\n",
    "for car in cars:\n",
    "    print (car.name + ': ' + car.drive())"
   ]
  },
  {
   "cell_type": "code",
   "execution_count": 2,
   "metadata": {},
   "outputs": [
    {
     "name": "stdout",
     "output_type": "stream",
     "text": [
      "Bangun Ruang:  Persegi ;banyak garis :  4 ;Besar sudut:  90 deg ;Warna : Kuning\n",
      "\n",
      "Bangun Ruang:  Lingkaran ;banyak garis :  0 ;Besar sudut:  360 deg ;Warna : Biru\n",
      "\n",
      "Bangun Ruang:  Segitiga ;banyak garis :  3 ;Besar sudut:  30 deg ;Warna : Hijau\n",
      "\n"
     ]
    }
   ],
   "source": [
    "class shape:\n",
    "    def __init__(self, nama, jgaris):\n",
    "        self.nama = nama\n",
    "        self.jgaris = jgaris\n",
    "\n",
    "    def name(self):\n",
    "        raise NotImplementedError()\n",
    "\n",
    "    def garis(self):\n",
    "        raise NotImplementedError()\n",
    "\n",
    "class persegi(shape):\n",
    "    def __init__(self, sudut, nama, jgaris, color):\n",
    "        shape.__init__(self, nama, jgaris)\n",
    "        self.sudut = sudut\n",
    "        self.color = color\n",
    "\n",
    "    # PRINT\n",
    "    def name(self):\n",
    "        return self.nama\n",
    "\n",
    "    def garis(self):\n",
    "        return self.jgaris\n",
    "\n",
    "    def cetak_sudut(self):\n",
    "        return self.sudut\n",
    "\n",
    "    def warna(self):\n",
    "        return self.color\n",
    "\n",
    "\n",
    "class lingkaran(shape):\n",
    "    def __init__(self, sudut, nama, jgaris, color):\n",
    "        shape.__init__(self, nama, jgaris)\n",
    "        self.sudut = sudut\n",
    "        self.color = color\n",
    "\n",
    "    # PRINT\n",
    "    def name(self):\n",
    "        return self.nama\n",
    "\n",
    "    def garis(self):\n",
    "        return \"0\"\n",
    "\n",
    "    def cetak_sudut(self):\n",
    "        return \"360 deg\"\n",
    "\n",
    "    def warna(self):\n",
    "        return self.color\n",
    "\n",
    "\n",
    "class segitiga(shape):\n",
    "    def __init__(self, sudut, nama, jgaris, color):\n",
    "        shape.__init__(self, nama, jgaris)\n",
    "        self.sudut = sudut\n",
    "        self.color = color\n",
    "\n",
    "    # PRINT\n",
    "    def name(self):\n",
    "        return self.nama\n",
    "\n",
    "    def garis(self):\n",
    "        return self.jgaris\n",
    "\n",
    "    def cetak_sudut(self):\n",
    "        return self.sudut\n",
    "\n",
    "    def warna(self):\n",
    "        return self.color\n",
    "\n",
    "\n",
    "bangun_1 = persegi(\"90 deg\", \"Persegi\", \"4\", \"Kuning\")\n",
    "bangun_2 = lingkaran(\"360 deg\", \"Lingkaran\", \"1\", \"Biru\")\n",
    "bangun_3 = segitiga(\"30 deg\", \"Segitiga\", \"3\", \"Hijau\")\n",
    "\n",
    "for ruang in (bangun_1, bangun_2, bangun_3):\n",
    "    print(\"Bangun Ruang: \", ruang.name(), \";banyak garis : \", ruang.garis(), \";Besar sudut: \", ruang.cetak_sudut(),\n",
    "          \";Warna :\", ruang.warna())\n",
    "    print()"
   ]
  },
  {
   "cell_type": "code",
   "execution_count": 3,
   "metadata": {},
   "outputs": [
    {
     "name": "stdout",
     "output_type": "stream",
     "text": [
      "hasim : kasir\n",
      "lely : pelayan\n",
      "cici : manajer\n",
      "jonatan : kurir\n",
      "nofall : cheff\n",
      "dimas : kooki\n",
      "doni : Ob\n",
      "ryan : satpam\n",
      "beni : ob\n",
      "khisam : pelayan\n"
     ]
    }
   ],
   "source": [
    "class karyawan:\n",
    "    def __init__(self,nama,deskripsi):\n",
    "        self.nama=nama\n",
    "        self.deskripsi=deskripsi\n",
    "    def tampilkan(self):\n",
    "        print(\"nama:\",self.nama,\"\\n\",\"deskripsi:\",self.deskripsi)\n",
    "\n",
    "class koki(karyawan):\n",
    "    pass\n",
    "\n",
    "class pizza(karyawan):\n",
    "    pass\n",
    "\n",
    "karyawan_pizza=[pizza('hasim','kasir'),\n",
    "                pizza('lely','pelayan'),\n",
    "                pizza('cici','manajer'),\n",
    "                pizza('jonatan','kurir'),\n",
    "                pizza('nofall','cheff'),\n",
    "                pizza('dimas','kooki'),\n",
    "                pizza('doni','Ob'),\n",
    "                pizza('ryan','satpam'),\n",
    "                pizza('beni','ob'),\n",
    "                pizza('khisam','pelayan')]\n",
    "for karyawan in karyawan_pizza:\n",
    "    print(karyawan.nama,':',karyawan.deskripsi)"
   ]
  },
  {
   "cell_type": "markdown",
   "metadata": {},
   "source": [
    "# OPERATOR AND METHOD"
   ]
  },
  {
   "attachments": {},
   "cell_type": "markdown",
   "metadata": {},
   "source": [
    "(METHOD OVERLOADING)\n",
    "\n",
    "Method Overloading adalah sebuah kemampuan yang membolehkan sebuah class mempunyai 2 atau lebih method dengan nama yang sama, yang membedakan adalah parameternya.\n",
    "\n",
    "Pada method overloading perbedaan parameter mencakup :\n",
    "\n",
    "    1. Jumlah parameter\n",
    "    2. Tipe data dari parameter\n",
    "    3. Urutan dari tipe data parameter\n",
    "\n",
    "Method Overloading juga dikenal dengan sebutan Static Polymorphism.\n",
    "<img src=\"gambar/method overloading.gif\">\n",
    "\n",
    "(OPERATOR OVERLOADING)\n",
    "\n",
    "Operator overloading, kadang-kadang disebut polimorfisme ad hoc operator, adalah kasus khusus polimorfisme, di mana operator yang berbeda memiliki implementasi yang berbeda tergantung pada argumen mereka. Overloading operator umumnya ditentukan oleh bahasa pemrograman, programmer, atau keduanya.\n",
    "\n",
    "Operator Overloading memungkinkan Anda mendefinisikan kembali makna operator\n",
    "+ Operator  untuk menambahkan dua objek angka, serta dua objek string.\n",
    "karena + operator kelebihan beban oleh kelas int dan str.\n",
    "<img src=\"gambar/operator overloading.png\">\n",
    "\n",
    "(MAGIC METHOD)\n",
    "\n",
    "Operator Overloading dicapai dengan mendefinisikan metode khusus dalam definisi kelas"
   ]
  },
  {
   "cell_type": "code",
   "execution_count": 2,
   "metadata": {},
   "outputs": [
    {
     "name": "stdout",
     "output_type": "stream",
     "text": [
      "Hello \n",
      "Hello Guido\n"
     ]
    }
   ],
   "source": [
    "class Human:\n",
    "    def sayHello(self, name=None):\n",
    "        if name is not None:\n",
    "            print('Hello ' + name)\n",
    "        else:print('Hello ')\n",
    "# Create instance\n",
    "obj = Human()\n",
    "\n",
    "# Call the method\n",
    "obj.sayHello()\n",
    "\n",
    "# Call the method with a parameter\n",
    "obj.sayHello('Guido')"
   ]
  },
  {
   "cell_type": "code",
   "execution_count": 5,
   "metadata": {},
   "outputs": [
    {
     "name": "stdout",
     "output_type": "stream",
     "text": [
      "Point object is at:(3,1)\n",
      "Point object is at:(1,5)\n"
     ]
    }
   ],
   "source": [
    "class Point:\n",
    "    def __init__(self, x , y):\n",
    "        self.x = x\n",
    "        self.y = y\n",
    "    #def __str__(self):\n",
    "        #return \"({0},{1})\".format(self.x,self.y)\n",
    "    def __str__(self):\n",
    "        return \"Point object is at:(\"+str(self.x)+\",\"+str(self.y)+\")\"\n",
    "    def __sub__(self,other):\n",
    "        x = self.x - other.x\n",
    "        y = self.y - other.y\n",
    "        return Point(x,y)\n",
    "    def __add__(self,other):\n",
    "        x = self.x + other.x\n",
    "        y = self.y + other.y\n",
    "        return Point(x,y)\n",
    "    \n",
    "p1 = Point(2,3)\n",
    "p2 = Point(-1,2)\n",
    "print(p1-p2)\n",
    "print(p1+p2)"
   ]
  },
  {
   "cell_type": "code",
   "execution_count": 6,
   "metadata": {},
   "outputs": [
    {
     "name": "stdout",
     "output_type": "stream",
     "text": [
      "2/4\n",
      "hasil tambah pecaha : 6/8\n",
      "hasil kurang pecahan : -2/8\n",
      "hasil bagi pecahan : 2/4\n",
      "hasil kali pecahan : 1/8\n"
     ]
    }
   ],
   "source": [
    "class Fraction:\n",
    "    def __init__(self,top,bottom):\n",
    "        self.atas = top\n",
    "        self.bawah = bottom\n",
    "    \n",
    "    #def show(self):\n",
    "        #print(self.num,\"/\",self.den)\n",
    "        \n",
    "    def __str__(self):\n",
    "        return str(self.atas)+\"/\"+str(self.bawah)\n",
    "\n",
    "\n",
    "    def __add__(self,other):\n",
    "        newatas = self.atas * other.bawah + self.bawah * other.atas\n",
    "        newbawah = self.bawah * other.bawah\n",
    "        return Fraction(newatas,newbawah)\n",
    "    \n",
    "    def __sub__(self,other):\n",
    "        newatas = self.atas * other.bawah- self.bawah * other.atas\n",
    "        newbawah = self.bawah* other.bawah\n",
    "        return Fraction(newatas,newbawah)\n",
    "    \n",
    "    def __truediv__(self,other):\n",
    "        newatas = self.atas* other.bawah\n",
    "        newbawah = self.bawah * other.atas\n",
    "        return Fraction(newatas,newbawah)\n",
    "\n",
    "    def __mul__(self, other):\n",
    "        newatas = self.atas * other.atas\n",
    "        newbawah = self.bawah * other.bawah\n",
    "        return Fraction(newatas,newbawah)\n",
    "    \n",
    "f=Fraction(2,4)\n",
    "#Show(f)\n",
    "print(f)\n",
    "\n",
    "f1 = Fraction(1,4)\n",
    "f2 = Fraction(1,2)\n",
    "print(\"hasil tambah pecaha :\",f1+f2)\n",
    "print(\"hasil kurang pecahan :\",f1-f2)\n",
    "print(\"hasil bagi pecahan :\",f1/f2)\n",
    "print(\"hasil kali pecahan :\",f1*f2)\n"
   ]
  },
  {
   "cell_type": "markdown",
   "metadata": {},
   "source": [
    "# ENCAPSULATION"
   ]
  },
  {
   "cell_type": "markdown",
   "metadata": {},
   "source": [
    " Encapsulation adalah proses pemaketan data bersama metode-metodenya dimana hal ini bermanfaat untuk menyembeunyikan rincian-rincian implementasi dari pemakai. Dalam sebuah objek yang mengandung variabel-variabel dan method-method, dapat ditentukan hak akses pada sebuah variabel atau method dari objek. Pembungkusan variabel dan method dalam sebuah objek dalam bagian yang terlindungi inilah yang disebut dengan enkapsulasi.\n",
    "\n",
    "Bagian eksternal dari sebuah objek sering disebut sebagai interface atau antarmuka terhadap objek lain. Karena objek lain harus berkomunikasi dengan obejk itu hanya melalui antarmuka maka bagian internal objek dapat dilindungi dari gangguan luar. Karena program luar tidak mengakses implementasi internal objek, maka implementasi internal dapat berubah tanpa mempengaruhi bagian-bagian program lain.\n",
    "<img src=\"gambar/encapsulation.png\">"
   ]
  },
  {
   "cell_type": "code",
   "execution_count": 7,
   "metadata": {},
   "outputs": [
    {
     "name": "stdout",
     "output_type": "stream",
     "text": [
      "22\n",
      "23\n",
      "23\n"
     ]
    }
   ],
   "source": [
    "class robot(object):\n",
    "    def __init__(self):\n",
    "        self.__version=22\n",
    "    def getversion(self):\n",
    "        print(self.__version)\n",
    "    def setversion(self,version):\n",
    "        self.__version=version\n",
    "obj=robot()\n",
    "obj.getversion()\n",
    "obj.setversion(23)\n",
    "obj.getversion()\n",
    "#print(obj.__version) salah karena tdk ada pemanggilan classs\n",
    "print(obj._robot__version)"
   ]
  },
  {
   "cell_type": "code",
   "execution_count": 12,
   "metadata": {},
   "outputs": [
    {
     "name": "stdout",
     "output_type": "stream",
     "text": [
      "This is a public method\n",
      "This is a private method\n",
      "This is another private method\n"
     ]
    }
   ],
   "source": [
    "class A(object):\n",
    "    #public method\n",
    "    def myPublicMethod(self):\n",
    "        return \"This is a public method\"\n",
    "    #private method with single underscore\n",
    "    def _myPrivateMethod(self):\n",
    "        return \"This is a private method\"\n",
    "    #private method with double underscore\n",
    "    def __myAnotherPrivateMethod(self):\n",
    "        return \"This is another private method\"\n",
    "#nama objek\n",
    "obj1 = A()\n",
    "#we can access the public mehod which is cool\n",
    "print(obj1.myPublicMethod())\n",
    "#Note that we can also access the private method from outside\n",
    "print(obj1._myPrivateMethod())\n",
    "print(obj1._A__myAnotherPrivateMethod())"
   ]
  },
  {
   "cell_type": "code",
   "execution_count": 8,
   "metadata": {},
   "outputs": [
    {
     "name": "stdout",
     "output_type": "stream",
     "text": [
      "driving. maxspeed : 200\n",
      "driving. maxspeed : 10\n"
     ]
    }
   ],
   "source": [
    "class Car:\n",
    " \n",
    "    __maxspeed = 0\n",
    "    __name = \"\"\n",
    " \n",
    "    def __init__(self):\n",
    "        self.__maxspeed = 200\n",
    "        self.__name = \"Supercar\"\n",
    " \n",
    "    def drive(self):\n",
    "        print (\"driving. maxspeed : \" + str(self.__maxspeed))\n",
    " \n",
    "redcar = Car()\n",
    "redcar.drive()\n",
    "redcar.__maxspeed = 10  # will not change variable because its private\n",
    "redcar._Car__maxspeed=10 #cara mengubah variabel private\n",
    "redcar.drive()"
   ]
  },
  {
   "cell_type": "code",
   "execution_count": 9,
   "metadata": {},
   "outputs": [
    {
     "name": "stdout",
     "output_type": "stream",
     "text": [
      "updating software\n",
      "driving\n"
     ]
    }
   ],
   "source": [
    "class Car:\n",
    " \n",
    "    def __init__(self):\n",
    "        self.__updateSoftware()\n",
    "\n",
    "    def drive(self):\n",
    "        print ('driving')\n",
    "\n",
    "    def __updateSoftware(self):\n",
    "        print ('updating software')\n",
    " \n",
    "redcar = Car()\n",
    "redcar.drive()\n",
    "#redcar.__updateSoftware()  not accesible from object."
   ]
  },
  {
   "cell_type": "code",
   "execution_count": 10,
   "metadata": {},
   "outputs": [
    {
     "name": "stdout",
     "output_type": "stream",
     "text": [
      "Nama: Segitiga Sama Sisi\n",
      "Panjang: 5\n",
      "Sisi: 75\n",
      "Nama: Persegi Panjang\n",
      "Panjang: 10\n",
      "Lebar: 15\n",
      "Nama: Lingkaran besar\n",
      "Jari-jari: 21\n"
     ]
    }
   ],
   "source": [
    "class Shape(object):\n",
    "    __nama = 0\n",
    "    def getNama(self):\n",
    "        print (\"Nama:\",self.__nama)\n",
    "    def setNama(self,nama):\n",
    "        self.__nama = nama\n",
    "    \n",
    "class Rectangle(Shape):\n",
    "    __panjang = 0\n",
    "    __lebar = 0\n",
    "    def getPanjangdanLebar(self):\n",
    "        print (\"Panjang:\",self.__panjang)\n",
    "        print (\"Lebar:\",self.__lebar)\n",
    "    def setPanjangdanLebar(self,panjang,lebar):\n",
    "        self.__panjang = panjang\n",
    "        self.__lebar = lebar\n",
    "\n",
    "class Circle(Shape):\n",
    "    __jari2 = 0\n",
    "    def getJari2(self):\n",
    "        print (\"Jari-jari:\",self.__jari2)\n",
    "    def setJari2(self,jari2):\n",
    "        self.__jari2 = jari2\n",
    "\n",
    "class Triangle(Shape):\n",
    "    __panjang = 0\n",
    "    __sisi = 0\n",
    "    def getPanjangdanSisi(self):\n",
    "        print (\"Panjang:\",self.__panjang)\n",
    "        print (\"Sisi:\",self.__sisi)\n",
    "    def setPanjangdanSisi(self,panjang,sisi):\n",
    "        self.__panjang = panjang\n",
    "        self.__sisi = sisi\n",
    "\n",
    "Segitiga = Triangle()\n",
    "Segitiga.setNama (\"Segitiga Sama Sisi\")\n",
    "Segitiga.setPanjangdanSisi(5,75)\n",
    "Segitiga.getNama ()\n",
    "Segitiga.getPanjangdanSisi ()\n",
    "\n",
    "Persegipanjang = Rectangle ()\n",
    "Persegipanjang.setNama (\"Persegi Panjang\")\n",
    "Persegipanjang.setPanjangdanLebar (10,15)\n",
    "Persegipanjang.getNama ()\n",
    "Persegipanjang.getPanjangdanLebar ()\n",
    "\n",
    "Lingkaran = Circle ()\n",
    "Lingkaran.setNama (\"Lingkaran besar\")\n",
    "Lingkaran.setJari2 (21)\n",
    "Lingkaran.getNama ()\n",
    "Lingkaran.getJari2 ()"
   ]
  },
  {
   "cell_type": "code",
   "execution_count": 11,
   "metadata": {},
   "outputs": [
    {
     "name": "stdout",
     "output_type": "stream",
     "text": [
      "(58, 10)\n",
      "(46, -4)\n"
     ]
    }
   ],
   "source": [
    "class bilangan:\n",
    "    def __init__(self,a,b):\n",
    "        self.a=a\n",
    "        self.b=b\n",
    "    def __add__(self,other):\n",
    "        return self.a+other.a,self.b+other.b\n",
    "    def __sub__(self,other):\n",
    "        return self.a-other.a,self.b-other.b\n",
    "    def __str__(self):\n",
    "        return self.a,self.b\n",
    "o1=bilangan(52,3)\n",
    "o2=bilangan(6,7)\n",
    "o3=o1+o2\n",
    "o4=o1-o2\n",
    "print (o3)\n",
    "print (o4)"
   ]
  },
  {
   "cell_type": "code",
   "execution_count": null,
   "metadata": {},
   "outputs": [],
   "source": []
  }
 ],
 "metadata": {
  "kernelspec": {
   "display_name": "Python 3",
   "language": "python",
   "name": "python3"
  },
  "language_info": {
   "codemirror_mode": {
    "name": "ipython",
    "version": 3
   },
   "file_extension": ".py",
   "mimetype": "text/x-python",
   "name": "python",
   "nbconvert_exporter": "python",
   "pygments_lexer": "ipython3",
   "version": "3.7.1"
  }
 },
 "nbformat": 4,
 "nbformat_minor": 2
}
